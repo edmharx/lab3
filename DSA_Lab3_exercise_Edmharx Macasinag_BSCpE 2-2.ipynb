{
 "cells": [
  {
   "cell_type": "markdown",
   "metadata": {},
   "source": [
    "## EXERCISE 1\n",
    "### Square of Odd in list\n",
    "\n",
    "This list comprehension only returns the list of odd integers in their squared form"
   ]
  },
  {
   "cell_type": "code",
   "execution_count": null,
   "metadata": {},
   "outputs": [],
   "source": [
    "num_list = [1,2,3,4,5,6,7,8,9]\n",
    "\n",
    "new_list = [num**2 for num in num_list if num%2 != 0]\n",
    "\n",
    "print(new_list)"
   ]
  },
  {
   "cell_type": "code",
   "execution_count": null,
   "metadata": {},
   "outputs": [],
   "source": [
    "Output:\n",
    "\n",
    "[1, 9, 25, 49, 81]"
   ]
  },
  {
   "cell_type": "markdown",
   "metadata": {},
   "source": [
    "## EXERCISE 2\n",
    "### Merging list into Tuple\n",
    "\n",
    "Using list comprehension, two lists are merged by counting the `len` of the list and matching the elements per `len` combining into one tuple."
   ]
  },
  {
   "cell_type": "code",
   "execution_count": null,
   "metadata": {},
   "outputs": [],
   "source": [
    "list1 = [\"Food\",\"Car\",\"Movie\",\"Book\"]\n",
    "list2 = [\"Adobo\", \"Subaru\", \"Transformers\", \"Sherlock Holmes\"]\n",
    "\n",
    "listOfTuple = [(list1[x], list2[x])for x in range(len(list1))]\n",
    "\n",
    "print (listOfTuple)"
   ]
  },
  {
   "cell_type": "code",
   "execution_count": null,
   "metadata": {},
   "outputs": [],
   "source": [
    "Output:\n",
    "\n",
    "[('Food', 'Adobo'), ('Car', 'Subaru'), ('Movie', 'Transformers'), ('Book', 'Sherlock Holmes')]"
   ]
  },
  {
   "cell_type": "markdown",
   "metadata": {},
   "source": [
    "## EXERCISE 3\n",
    "### Vowels to Upper\n",
    "\n",
    "Creates a function called `vowelsToUpper` that converts a vowel from a given string into uppercase then returning the set of string with uppercase vowels."
   ]
  },
  {
   "cell_type": "code",
   "execution_count": null,
   "metadata": {},
   "outputs": [],
   "source": [
    "def vowelsToUpper(sentence):\n",
    "    vowels = 'aeiou'\n",
    "    transformed = ''.join([char.upper() if char in vowels else char for char in sentence])\n",
    "    return transformed\n",
    "\n",
    "print(vowelsToUpper(\"hi hello word mah homie\"))"
   ]
  },
  {
   "cell_type": "code",
   "execution_count": null,
   "metadata": {},
   "outputs": [],
   "source": [
    "Output:\n",
    "\n",
    "hI hEllO wOrd mAh hOmIE"
   ]
  }
 ],
 "metadata": {
  "kernelspec": {
   "display_name": "Python 3",
   "language": "python",
   "name": "python3"
  },
  "language_info": {
   "name": "python",
   "version": "3.12.2"
  }
 },
 "nbformat": 4,
 "nbformat_minor": 2
}
